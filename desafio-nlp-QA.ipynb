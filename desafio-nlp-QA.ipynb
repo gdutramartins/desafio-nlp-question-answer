{
 "cells": [
  {
   "cell_type": "code",
   "execution_count": 10,
   "id": "7d2d0b06",
   "metadata": {},
   "outputs": [],
   "source": [
    "import pandas as pd\n",
    "import tensorflow as tf\n",
    "import os\n",
    "\n",
    "import matplotlib.pyplot as plt\n",
    "import seaborn as sns\n"
   ]
  },
  {
   "cell_type": "markdown",
   "id": "4544b0d2",
   "metadata": {},
   "source": [
    "##### Declaração das constantes utilizadas no código"
   ]
  },
  {
   "cell_type": "code",
   "execution_count": 2,
   "id": "9b7eced6",
   "metadata": {},
   "outputs": [],
   "source": [
    "DATASET_PATH = \"dataset\"\n",
    "CONTEXT_TEXT_PATH = os.path.join(DATASET_PATH,\"text_data\")"
   ]
  },
  {
   "cell_type": "code",
   "execution_count": null,
   "id": "00d1c7e7",
   "metadata": {},
   "outputs": [],
   "source": []
  },
  {
   "cell_type": "code",
   "execution_count": 3,
   "id": "40214165",
   "metadata": {},
   "outputs": [],
   "source": [
    "def get_context_files():\n",
    "    context_file_map = {}\n",
    "    for f in os.listdir(CONTEXT_TEXT_PATH):\n",
    "        file_full_path = os.path.join(CONTEXT_TEXT_PATH, f)\n",
    "        if os.path.isfile(file_full_path):\n",
    "            with open(file_full_path, 'r', encoding=\"utf-8\") as f_contexto:\n",
    "                contexto = f_contexto.read().replace('\\n', '')\n",
    "            chave = f.replace(\".txt.clean\",\"\")\n",
    "            context_file_map[chave] = contexto\n",
    "    return context_file_map\n",
    "            "
   ]
  },
  {
   "cell_type": "code",
   "execution_count": 8,
   "id": "53887b8d",
   "metadata": {},
   "outputs": [
    {
     "name": "stdout",
     "output_type": "stream",
     "text": [
      "[2696, 1376, 3575, 3483, 4555]\n"
     ]
    }
   ],
   "source": [
    "\n",
    "context_files = get_context_files()\n",
    "lista_tamanhos = []\n",
    "for cf in context_files:\n",
    "    lista_tamanhos.append(len(context_files[cf].split()))\n",
    "print(lista_tamanhos[:5])"
   ]
  },
  {
   "cell_type": "code",
   "execution_count": 11,
   "id": "a0b28f5c",
   "metadata": {},
   "outputs": [
    {
     "data": {
      "text/plain": [
       "(array([37., 19., 26., 14., 26., 12., 14., 12.,  2.,  3.]),\n",
       " array([1.00000e+00, 1.20520e+03, 2.40940e+03, 3.61360e+03, 4.81780e+03,\n",
       "        6.02200e+03, 7.22620e+03, 8.43040e+03, 9.63460e+03, 1.08388e+04,\n",
       "        1.20430e+04]),\n",
       " <BarContainer object of 10 artists>)"
      ]
     },
     "execution_count": 11,
     "metadata": {},
     "output_type": "execute_result"
    },
    {
     "data": {
      "image/png": "[encoded data removed]",
      "text/plain": [
       "<Figure size 432x288 with 1 Axes>"
      ]
     },
     "metadata": {
      "needs_background": "light"
     },
     "output_type": "display_data"
    }
   ],
   "source": [
    "plt.hist(lista_tamanhos)"
   ]
  },
  {
   "cell_type": "code",
   "execution_count": null,
   "id": "226a04b8",
   "metadata": {},
   "outputs": [],
   "source": []
  }
 ],
 "metadata": {
  "kernelspec": {
   "display_name": "Python 3",
   "language": "python",
   "name": "python3"
  },
  "language_info": {
   "codemirror_mode": {
    "name": "ipython",
    "version": 3
   },
   "file_extension": ".py",
   "mimetype": "text/x-python",
   "name": "python",
   "nbconvert_exporter": "python",
   "pygments_lexer": "ipython3",
   "version": "3.8.8"
  }
 },
 "nbformat": 4,
 "nbformat_minor": 5
}
