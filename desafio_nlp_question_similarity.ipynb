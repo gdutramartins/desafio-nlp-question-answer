{
  "nbformat": 4,
  "nbformat_minor": 5,
  "metadata": {
    "kernelspec": {
      "display_name": "Python 3",
      "language": "python",
      "name": "python3"
    },
    "language_info": {
      "codemirror_mode": {
        "name": "ipython",
        "version": 3
      },
      "file_extension": ".py",
      "mimetype": "text/x-python",
      "name": "python",
      "nbconvert_exporter": "python",
      "pygments_lexer": "ipython3",
      "version": "3.8.8"
    },
    "colab": {
      "name": "Cópia de desafio-nlp-question-similarity.ipynb",
      "provenance": [],
      "collapsed_sections": [],
      "toc_visible": true
    },
    "accelerator": "GPU",
    "widgets": {
      "application/vnd.jupyter.widget-state+json": {
        "738fa32458ad41e0b94bd1973b710398": {
          "model_module": "@jupyter-widgets/controls",
          "model_name": "HBoxModel",
          "state": {
            "_view_name": "HBoxView",
            "_dom_classes": [],
            "_model_name": "HBoxModel",
            "_view_module": "@jupyter-widgets/controls",
            "_model_module_version": "1.5.0",
            "_view_count": null,
            "_view_module_version": "1.5.0",
            "box_style": "",
            "layout": "IPY_MODEL_38ad1403dd154789a403a712f223ed2d",
            "_model_module": "@jupyter-widgets/controls",
            "children": [
              "IPY_MODEL_264eaff4182f46ecaf5288c68e983245",
              "IPY_MODEL_8dac1e0e185548f4837d9d170f8e6eae"
            ]
          }
        },
        "38ad1403dd154789a403a712f223ed2d": {
          "model_module": "@jupyter-widgets/base",
          "model_name": "LayoutModel",
          "state": {
            "_view_name": "LayoutView",
            "grid_template_rows": null,
            "right": null,
            "justify_content": null,
            "_view_module": "@jupyter-widgets/base",
            "overflow": null,
            "_model_module_version": "1.2.0",
            "_view_count": null,
            "flex_flow": null,
            "width": null,
            "min_width": null,
            "border": null,
            "align_items": null,
            "bottom": null,
            "_model_module": "@jupyter-widgets/base",
            "top": null,
            "grid_column": null,
            "overflow_y": null,
            "overflow_x": null,
            "grid_auto_flow": null,
            "grid_area": null,
            "grid_template_columns": null,
            "flex": null,
            "_model_name": "LayoutModel",
            "justify_items": null,
            "grid_row": null,
            "max_height": null,
            "align_content": null,
            "visibility": null,
            "align_self": null,
            "height": null,
            "min_height": null,
            "padding": null,
            "grid_auto_rows": null,
            "grid_gap": null,
            "max_width": null,
            "order": null,
            "_view_module_version": "1.2.0",
            "grid_template_areas": null,
            "object_position": null,
            "object_fit": null,
            "grid_auto_columns": null,
            "margin": null,
            "display": null,
            "left": null
          }
        },
        "264eaff4182f46ecaf5288c68e983245": {
          "model_module": "@jupyter-widgets/controls",
          "model_name": "FloatProgressModel",
          "state": {
            "_view_name": "ProgressView",
            "style": "IPY_MODEL_b3740a2e76344055b075d18602ec5071",
            "_dom_classes": [],
            "description": "Downloading: 100%",
            "_model_name": "FloatProgressModel",
            "bar_style": "success",
            "max": 461,
            "_view_module": "@jupyter-widgets/controls",
            "_model_module_version": "1.5.0",
            "value": 461,
            "_view_count": null,
            "_view_module_version": "1.5.0",
            "orientation": "horizontal",
            "min": 0,
            "description_tooltip": null,
            "_model_module": "@jupyter-widgets/controls",
            "layout": "IPY_MODEL_713d7765bf834cd384d63ad4d053827d"
          }
        },
        "8dac1e0e185548f4837d9d170f8e6eae": {
          "model_module": "@jupyter-widgets/controls",
          "model_name": "HTMLModel",
          "state": {
            "_view_name": "HTMLView",
            "style": "IPY_MODEL_c254c97ae65e4a1a8dfe36ae4c11f06e",
            "_dom_classes": [],
            "description": "",
            "_model_name": "HTMLModel",
            "placeholder": "​",
            "_view_module": "@jupyter-widgets/controls",
            "_model_module_version": "1.5.0",
            "value": " 461/461 [00:00&lt;00:00, 526B/s]",
            "_view_count": null,
            "_view_module_version": "1.5.0",
            "description_tooltip": null,
            "_model_module": "@jupyter-widgets/controls",
            "layout": "IPY_MODEL_475d0435039f468e861ced2990082d88"
          }
        },
        "b3740a2e76344055b075d18602ec5071": {
          "model_module": "@jupyter-widgets/controls",
          "model_name": "ProgressStyleModel",
          "state": {
            "_view_name": "StyleView",
            "_model_name": "ProgressStyleModel",
            "description_width": "initial",
            "_view_module": "@jupyter-widgets/base",
            "_model_module_version": "1.5.0",
            "_view_count": null,
            "_view_module_version": "1.2.0",
            "bar_color": null,
            "_model_module": "@jupyter-widgets/controls"
          }
        },
        "713d7765bf834cd384d63ad4d053827d": {
          "model_module": "@jupyter-widgets/base",
          "model_name": "LayoutModel",
          "state": {
            "_view_name": "LayoutView",
            "grid_template_rows": null,
            "right": null,
            "justify_content": null,
            "_view_module": "@jupyter-widgets/base",
            "overflow": null,
            "_model_module_version": "1.2.0",
            "_view_count": null,
            "flex_flow": null,
            "width": null,
            "min_width": null,
            "border": null,
            "align_items": null,
            "bottom": null,
            "_model_module": "@jupyter-widgets/base",
            "top": null,
            "grid_column": null,
            "overflow_y": null,
            "overflow_x": null,
            "grid_auto_flow": null,
            "grid_area": null,
            "grid_template_columns": null,
            "flex": null,
            "_model_name": "LayoutModel",
            "justify_items": null,
            "grid_row": null,
            "max_height": null,
            "align_content": null,
            "visibility": null,
            "align_self": null,
            "height": null,
            "min_height": null,
            "padding": null,
            "grid_auto_rows": null,
            "grid_gap": null,
            "max_width": null,
            "order": null,
            "_view_module_version": "1.2.0",
            "grid_template_areas": null,
            "object_position": null,
            "object_fit": null,
            "grid_auto_columns": null,
            "margin": null,
            "display": null,
            "left": null
          }
        },
        "c254c97ae65e4a1a8dfe36ae4c11f06e": {
          "model_module": "@jupyter-widgets/controls",
          "model_name": "DescriptionStyleModel",
          "state": {
            "_view_name": "StyleView",
            "_model_name": "DescriptionStyleModel",
            "description_width": "",
            "_view_module": "@jupyter-widgets/base",
            "_model_module_version": "1.5.0",
            "_view_count": null,
            "_view_module_version": "1.2.0",
            "_model_module": "@jupyter-widgets/controls"
          }
        },
        "475d0435039f468e861ced2990082d88": {
          "model_module": "@jupyter-widgets/base",
          "model_name": "LayoutModel",
          "state": {
            "_view_name": "LayoutView",
            "grid_template_rows": null,
            "right": null,
            "justify_content": null,
            "_view_module": "@jupyter-widgets/base",
            "overflow": null,
            "_model_module_version": "1.2.0",
            "_view_count": null,
            "flex_flow": null,
            "width": null,
            "min_width": null,
            "border": null,
            "align_items": null,
            "bottom": null,
            "_model_module": "@jupyter-widgets/base",
            "top": null,
            "grid_column": null,
            "overflow_y": null,
            "overflow_x": null,
            "grid_auto_flow": null,
            "grid_area": null,
            "grid_template_columns": null,
            "flex": null,
            "_model_name": "LayoutModel",
            "justify_items": null,
            "grid_row": null,
            "max_height": null,
            "align_content": null,
            "visibility": null,
            "align_self": null,
            "height": null,
            "min_height": null,
            "padding": null,
            "grid_auto_rows": null,
            "grid_gap": null,
            "max_width": null,
            "order": null,
            "_view_module_version": "1.2.0",
            "grid_template_areas": null,
            "object_position": null,
            "object_fit": null,
            "grid_auto_columns": null,
            "margin": null,
            "display": null,
            "left": null
          }
        },
        "1abfc51b81724a1ba3d882fe7beb79c1": {
          "model_module": "@jupyter-widgets/controls",
          "model_name": "HBoxModel",
          "state": {
            "_view_name": "HBoxView",
            "_dom_classes": [],
            "_model_name": "HBoxModel",
            "_view_module": "@jupyter-widgets/controls",
            "_model_module_version": "1.5.0",
            "_view_count": null,
            "_view_module_version": "1.5.0",
            "box_style": "",
            "layout": "IPY_MODEL_8b3733756f9d4ea294821e0feb806d52",
            "_model_module": "@jupyter-widgets/controls",
            "children": [
              "IPY_MODEL_19196fe5c90f4664945bcd08a4ef505a",
              "IPY_MODEL_33c3aa0e982040eb89dc43e027ec8f74"
            ]
          }
        },
        "8b3733756f9d4ea294821e0feb806d52": {
          "model_module": "@jupyter-widgets/base",
          "model_name": "LayoutModel",
          "state": {
            "_view_name": "LayoutView",
            "grid_template_rows": null,
            "right": null,
            "justify_content": null,
            "_view_module": "@jupyter-widgets/base",
            "overflow": null,
            "_model_module_version": "1.2.0",
            "_view_count": null,
            "flex_flow": null,
            "width": null,
            "min_width": null,
            "border": null,
            "align_items": null,
            "bottom": null,
            "_model_module": "@jupyter-widgets/base",
            "top": null,
            "grid_column": null,
            "overflow_y": null,
            "overflow_x": null,
            "grid_auto_flow": null,
            "grid_area": null,
            "grid_template_columns": null,
            "flex": null,
            "_model_name": "LayoutModel",
            "justify_items": null,
            "grid_row": null,
            "max_height": null,
            "align_content": null,
            "visibility": null,
            "align_self": null,
            "height": null,
            "min_height": null,
            "padding": null,
            "grid_auto_rows": null,
            "grid_gap": null,
            "max_width": null,
            "order": null,
            "_view_module_version": "1.2.0",
            "grid_template_areas": null,
            "object_position": null,
            "object_fit": null,
            "grid_auto_columns": null,
            "margin": null,
            "display": null,
            "left": null
          }
        },
        "19196fe5c90f4664945bcd08a4ef505a": {
          "model_module": "@jupyter-widgets/controls",
          "model_name": "FloatProgressModel",
          "state": {
            "_view_name": "ProgressView",
            "style": "IPY_MODEL_51d001337bf9409e83532cb038c2e5f9",
            "_dom_classes": [],
            "description": "Downloading: 100%",
            "_model_name": "FloatProgressModel",
            "bar_style": "success",
            "max": 231508,
            "_view_module": "@jupyter-widgets/controls",
            "_model_module_version": "1.5.0",
            "value": 231508,
            "_view_count": null,
            "_view_module_version": "1.5.0",
            "orientation": "horizontal",
            "min": 0,
            "description_tooltip": null,
            "_model_module": "@jupyter-widgets/controls",
            "layout": "IPY_MODEL_270f64bdff2847a5b2363516f5131918"
          }
        },
        "33c3aa0e982040eb89dc43e027ec8f74": {
          "model_module": "@jupyter-widgets/controls",
          "model_name": "HTMLModel",
          "state": {
            "_view_name": "HTMLView",
            "style": "IPY_MODEL_f152c69d21cd4479b1cefeefa0a03349",
            "_dom_classes": [],
            "description": "",
            "_model_name": "HTMLModel",
            "placeholder": "​",
            "_view_module": "@jupyter-widgets/controls",
            "_model_module_version": "1.5.0",
            "value": " 232k/232k [00:00&lt;00:00, 757kB/s]",
            "_view_count": null,
            "_view_module_version": "1.5.0",
            "description_tooltip": null,
            "_model_module": "@jupyter-widgets/controls",
            "layout": "IPY_MODEL_302e43a8fe8440d39bd8cde1122d51eb"
          }
        },
        "51d001337bf9409e83532cb038c2e5f9": {
          "model_module": "@jupyter-widgets/controls",
          "model_name": "ProgressStyleModel",
          "state": {
            "_view_name": "StyleView",
            "_model_name": "ProgressStyleModel",
            "description_width": "initial",
            "_view_module": "@jupyter-widgets/base",
            "_model_module_version": "1.5.0",
            "_view_count": null,
            "_view_module_version": "1.2.0",
            "bar_color": null,
            "_model_module": "@jupyter-widgets/controls"
          }
        },
        "270f64bdff2847a5b2363516f5131918": {
          "model_module": "@jupyter-widgets/base",
          "model_name": "LayoutModel",
          "state": {
            "_view_name": "LayoutView",
            "grid_template_rows": null,
            "right": null,
            "justify_content": null,
            "_view_module": "@jupyter-widgets/base",
            "overflow": null,
            "_model_module_version": "1.2.0",
            "_view_count": null,
            "flex_flow": null,
            "width": null,
            "min_width": null,
            "border": null,
            "align_items": null,
            "bottom": null,
            "_model_module": "@jupyter-widgets/base",
            "top": null,
            "grid_column": null,
            "overflow_y": null,
            "overflow_x": null,
            "grid_auto_flow": null,
            "grid_area": null,
            "grid_template_columns": null,
            "flex": null,
            "_model_name": "LayoutModel",
            "justify_items": null,
            "grid_row": null,
            "max_height": null,
            "align_content": null,
            "visibility": null,
            "align_self": null,
            "height": null,
            "min_height": null,
            "padding": null,
            "grid_auto_rows": null,
            "grid_gap": null,
            "max_width": null,
            "order": null,
            "_view_module_version": "1.2.0",
            "grid_template_areas": null,
            "object_position": null,
            "object_fit": null,
            "grid_auto_columns": null,
            "margin": null,
            "display": null,
            "left": null
          }
        },
        "f152c69d21cd4479b1cefeefa0a03349": {
          "model_module": "@jupyter-widgets/controls",
          "model_name": "DescriptionStyleModel",
          "state": {
            "_view_name": "StyleView",
            "_model_name": "DescriptionStyleModel",
            "description_width": "",
            "_view_module": "@jupyter-widgets/base",
            "_model_module_version": "1.5.0",
            "_view_count": null,
            "_view_module_version": "1.2.0",
            "_model_module": "@jupyter-widgets/controls"
          }
        },
        "302e43a8fe8440d39bd8cde1122d51eb": {
          "model_module": "@jupyter-widgets/base",
          "model_name": "LayoutModel",
          "state": {
            "_view_name": "LayoutView",
            "grid_template_rows": null,
            "right": null,
            "justify_content": null,
            "_view_module": "@jupyter-widgets/base",
            "overflow": null,
            "_model_module_version": "1.2.0",
            "_view_count": null,
            "flex_flow": null,
            "width": null,
            "min_width": null,
            "border": null,
            "align_items": null,
            "bottom": null,
            "_model_module": "@jupyter-widgets/base",
            "top": null,
            "grid_column": null,
            "overflow_y": null,
            "overflow_x": null,
            "grid_auto_flow": null,
            "grid_area": null,
            "grid_template_columns": null,
            "flex": null,
            "_model_name": "LayoutModel",
            "justify_items": null,
            "grid_row": null,
            "max_height": null,
            "align_content": null,
            "visibility": null,
            "align_self": null,
            "height": null,
            "min_height": null,
            "padding": null,
            "grid_auto_rows": null,
            "grid_gap": null,
            "max_width": null,
            "order": null,
            "_view_module_version": "1.2.0",
            "grid_template_areas": null,
            "object_position": null,
            "object_fit": null,
            "grid_auto_columns": null,
            "margin": null,
            "display": null,
            "left": null
          }
        },
        "275427853ff7453dba0c17c21f72cc6d": {
          "model_module": "@jupyter-widgets/controls",
          "model_name": "HBoxModel",
          "state": {
            "_view_name": "HBoxView",
            "_dom_classes": [],
            "_model_name": "HBoxModel",
            "_view_module": "@jupyter-widgets/controls",
            "_model_module_version": "1.5.0",
            "_view_count": null,
            "_view_module_version": "1.5.0",
            "box_style": "",
            "layout": "IPY_MODEL_c6dcc78aefb24c26a69ef0031e92d2ad",
            "_model_module": "@jupyter-widgets/controls",
            "children": [
              "IPY_MODEL_2c85830cf5e44c67a3a8f7d357e4c91e",
              "IPY_MODEL_b3b469456aaa47b89615b73a54696428"
            ]
          }
        },
        "c6dcc78aefb24c26a69ef0031e92d2ad": {
          "model_module": "@jupyter-widgets/base",
          "model_name": "LayoutModel",
          "state": {
            "_view_name": "LayoutView",
            "grid_template_rows": null,
            "right": null,
            "justify_content": null,
            "_view_module": "@jupyter-widgets/base",
            "overflow": null,
            "_model_module_version": "1.2.0",
            "_view_count": null,
            "flex_flow": null,
            "width": null,
            "min_width": null,
            "border": null,
            "align_items": null,
            "bottom": null,
            "_model_module": "@jupyter-widgets/base",
            "top": null,
            "grid_column": null,
            "overflow_y": null,
            "overflow_x": null,
            "grid_auto_flow": null,
            "grid_area": null,
            "grid_template_columns": null,
            "flex": null,
            "_model_name": "LayoutModel",
            "justify_items": null,
            "grid_row": null,
            "max_height": null,
            "align_content": null,
            "visibility": null,
            "align_self": null,
            "height": null,
            "min_height": null,
            "padding": null,
            "grid_auto_rows": null,
            "grid_gap": null,
            "max_width": null,
            "order": null,
            "_view_module_version": "1.2.0",
            "grid_template_areas": null,
            "object_position": null,
            "object_fit": null,
            "grid_auto_columns": null,
            "margin": null,
            "display": null,
            "left": null
          }
        },
        "2c85830cf5e44c67a3a8f7d357e4c91e": {
          "model_module": "@jupyter-widgets/controls",
          "model_name": "FloatProgressModel",
          "state": {
            "_view_name": "ProgressView",
            "style": "IPY_MODEL_c2fc5913b56e48f28e6246245a6422ac",
            "_dom_classes": [],
            "description": "Downloading: 100%",
            "_model_name": "FloatProgressModel",
            "bar_style": "success",
            "max": 2,
            "_view_module": "@jupyter-widgets/controls",
            "_model_module_version": "1.5.0",
            "value": 2,
            "_view_count": null,
            "_view_module_version": "1.5.0",
            "orientation": "horizontal",
            "min": 0,
            "description_tooltip": null,
            "_model_module": "@jupyter-widgets/controls",
            "layout": "IPY_MODEL_0c0bdf3733d741269097b45c67630d88"
          }
        },
        "b3b469456aaa47b89615b73a54696428": {
          "model_module": "@jupyter-widgets/controls",
          "model_name": "HTMLModel",
          "state": {
            "_view_name": "HTMLView",
            "style": "IPY_MODEL_ca90d02fcc2442239cd0e6a13165f354",
            "_dom_classes": [],
            "description": "",
            "_model_name": "HTMLModel",
            "placeholder": "​",
            "_view_module": "@jupyter-widgets/controls",
            "_model_module_version": "1.5.0",
            "value": " 2.00/2.00 [00:00&lt;00:00, 5.36B/s]",
            "_view_count": null,
            "_view_module_version": "1.5.0",
            "description_tooltip": null,
            "_model_module": "@jupyter-widgets/controls",
            "layout": "IPY_MODEL_06f03662b3394ae9b1bd672e61931584"
          }
        },
        "c2fc5913b56e48f28e6246245a6422ac": {
          "model_module": "@jupyter-widgets/controls",
          "model_name": "ProgressStyleModel",
          "state": {
            "_view_name": "StyleView",
            "_model_name": "ProgressStyleModel",
            "description_width": "initial",
            "_view_module": "@jupyter-widgets/base",
            "_model_module_version": "1.5.0",
            "_view_count": null,
            "_view_module_version": "1.2.0",
            "bar_color": null,
            "_model_module": "@jupyter-widgets/controls"
          }
        },
        "0c0bdf3733d741269097b45c67630d88": {
          "model_module": "@jupyter-widgets/base",
          "model_name": "LayoutModel",
          "state": {
            "_view_name": "LayoutView",
            "grid_template_rows": null,
            "right": null,
            "justify_content": null,
            "_view_module": "@jupyter-widgets/base",
            "overflow": null,
            "_model_module_version": "1.2.0",
            "_view_count": null,
            "flex_flow": null,
            "width": null,
            "min_width": null,
            "border": null,
            "align_items": null,
            "bottom": null,
            "_model_module": "@jupyter-widgets/base",
            "top": null,
            "grid_column": null,
            "overflow_y": null,
            "overflow_x": null,
            "grid_auto_flow": null,
            "grid_area": null,
            "grid_template_columns": null,
            "flex": null,
            "_model_name": "LayoutModel",
            "justify_items": null,
            "grid_row": null,
            "max_height": null,
            "align_content": null,
            "visibility": null,
            "align_self": null,
            "height": null,
            "min_height": null,
            "padding": null,
            "grid_auto_rows": null,
            "grid_gap": null,
            "max_width": null,
            "order": null,
            "_view_module_version": "1.2.0",
            "grid_template_areas": null,
            "object_position": null,
            "object_fit": null,
            "grid_auto_columns": null,
            "margin": null,
            "display": null,
            "left": null
          }
        },
        "ca90d02fcc2442239cd0e6a13165f354": {
          "model_module": "@jupyter-widgets/controls",
          "model_name": "DescriptionStyleModel",
          "state": {
            "_view_name": "StyleView",
            "_model_name": "DescriptionStyleModel",
            "description_width": "",
            "_view_module": "@jupyter-widgets/base",
            "_model_module_version": "1.5.0",
            "_view_count": null,
            "_view_module_version": "1.2.0",
            "_model_module": "@jupyter-widgets/controls"
          }
        },
        "06f03662b3394ae9b1bd672e61931584": {
          "model_module": "@jupyter-widgets/base",
          "model_name": "LayoutModel",
          "state": {
            "_view_name": "LayoutView",
            "grid_template_rows": null,
            "right": null,
            "justify_content": null,
            "_view_module": "@jupyter-widgets/base",
            "overflow": null,
            "_model_module_version": "1.2.0",
            "_view_count": null,
            "flex_flow": null,
            "width": null,
            "min_width": null,
            "border": null,
            "align_items": null,
            "bottom": null,
            "_model_module": "@jupyter-widgets/base",
            "top": null,
            "grid_column": null,
            "overflow_y": null,
            "overflow_x": null,
            "grid_auto_flow": null,
            "grid_area": null,
            "grid_template_columns": null,
            "flex": null,
            "_model_name": "LayoutModel",
            "justify_items": null,
            "grid_row": null,
            "max_height": null,
            "align_content": null,
            "visibility": null,
            "align_self": null,
            "height": null,
            "min_height": null,
            "padding": null,
            "grid_auto_rows": null,
            "grid_gap": null,
            "max_width": null,
            "order": null,
            "_view_module_version": "1.2.0",
            "grid_template_areas": null,
            "object_position": null,
            "object_fit": null,
            "grid_auto_columns": null,
            "margin": null,
            "display": null,
            "left": null
          }
        },
        "aebe9e186494427a81229515b5ca2c54": {
          "model_module": "@jupyter-widgets/controls",
          "model_name": "HBoxModel",
          "state": {
            "_view_name": "HBoxView",
            "_dom_classes": [],
            "_model_name": "HBoxModel",
            "_view_module": "@jupyter-widgets/controls",
            "_model_module_version": "1.5.0",
            "_view_count": null,
            "_view_module_version": "1.5.0",
            "box_style": "",
            "layout": "IPY_MODEL_660ea26b3aaf4d0d9ba3555c94ab8665",
            "_model_module": "@jupyter-widgets/controls",
            "children": [
              "IPY_MODEL_c6623837724d471b99dcc77e0dbc2e70",
              "IPY_MODEL_58f824a9db7d46e28847f5d64a118cbf"
            ]
          }
        },
        "660ea26b3aaf4d0d9ba3555c94ab8665": {
          "model_module": "@jupyter-widgets/base",
          "model_name": "LayoutModel",
          "state": {
            "_view_name": "LayoutView",
            "grid_template_rows": null,
            "right": null,
            "justify_content": null,
            "_view_module": "@jupyter-widgets/base",
            "overflow": null,
            "_model_module_version": "1.2.0",
            "_view_count": null,
            "flex_flow": null,
            "width": null,
            "min_width": null,
            "border": null,
            "align_items": null,
            "bottom": null,
            "_model_module": "@jupyter-widgets/base",
            "top": null,
            "grid_column": null,
            "overflow_y": null,
            "overflow_x": null,
            "grid_auto_flow": null,
            "grid_area": null,
            "grid_template_columns": null,
            "flex": null,
            "_model_name": "LayoutModel",
            "justify_items": null,
            "grid_row": null,
            "max_height": null,
            "align_content": null,
            "visibility": null,
            "align_self": null,
            "height": null,
            "min_height": null,
            "padding": null,
            "grid_auto_rows": null,
            "grid_gap": null,
            "max_width": null,
            "order": null,
            "_view_module_version": "1.2.0",
            "grid_template_areas": null,
            "object_position": null,
            "object_fit": null,
            "grid_auto_columns": null,
            "margin": null,
            "display": null,
            "left": null
          }
        },
        "c6623837724d471b99dcc77e0dbc2e70": {
          "model_module": "@jupyter-widgets/controls",
          "model_name": "FloatProgressModel",
          "state": {
            "_view_name": "ProgressView",
            "style": "IPY_MODEL_fe8b0805ba6e43cbbb564649f5e6af6d",
            "_dom_classes": [],
            "description": "Downloading: 100%",
            "_model_name": "FloatProgressModel",
            "bar_style": "success",
            "max": 112,
            "_view_module": "@jupyter-widgets/controls",
            "_model_module_version": "1.5.0",
            "value": 112,
            "_view_count": null,
            "_view_module_version": "1.5.0",
            "orientation": "horizontal",
            "min": 0,
            "description_tooltip": null,
            "_model_module": "@jupyter-widgets/controls",
            "layout": "IPY_MODEL_533df9d2fd27416f8b2b44e900cff1cc"
          }
        },
        "58f824a9db7d46e28847f5d64a118cbf": {
          "model_module": "@jupyter-widgets/controls",
          "model_name": "HTMLModel",
          "state": {
            "_view_name": "HTMLView",
            "style": "IPY_MODEL_a9a6ebe31f4248b1be2a1bf859810303",
            "_dom_classes": [],
            "description": "",
            "_model_name": "HTMLModel",
            "placeholder": "​",
            "_view_module": "@jupyter-widgets/controls",
            "_model_module_version": "1.5.0",
            "value": " 112/112 [00:00&lt;00:00, 673B/s]",
            "_view_count": null,
            "_view_module_version": "1.5.0",
            "description_tooltip": null,
            "_model_module": "@jupyter-widgets/controls",
            "layout": "IPY_MODEL_1272c54d995d41f59384162ec6ae863a"
          }
        },
        "fe8b0805ba6e43cbbb564649f5e6af6d": {
          "model_module": "@jupyter-widgets/controls",
          "model_name": "ProgressStyleModel",
          "state": {
            "_view_name": "StyleView",
            "_model_name": "ProgressStyleModel",
            "description_width": "initial",
            "_view_module": "@jupyter-widgets/base",
            "_model_module_version": "1.5.0",
            "_view_count": null,
            "_view_module_version": "1.2.0",
            "bar_color": null,
            "_model_module": "@jupyter-widgets/controls"
          }
        },
        "533df9d2fd27416f8b2b44e900cff1cc": {
          "model_module": "@jupyter-widgets/base",
          "model_name": "LayoutModel",
          "state": {
            "_view_name": "LayoutView",
            "grid_template_rows": null,
            "right": null,
            "justify_content": null,
            "_view_module": "@jupyter-widgets/base",
            "overflow": null,
            "_model_module_version": "1.2.0",
            "_view_count": null,
            "flex_flow": null,
            "width": null,
            "min_width": null,
            "border": null,
            "align_items": null,
            "bottom": null,
            "_model_module": "@jupyter-widgets/base",
            "top": null,
            "grid_column": null,
            "overflow_y": null,
            "overflow_x": null,
            "grid_auto_flow": null,
            "grid_area": null,
            "grid_template_columns": null,
            "flex": null,
            "_model_name": "LayoutModel",
            "justify_items": null,
            "grid_row": null,
            "max_height": null,
            "align_content": null,
            "visibility": null,
            "align_self": null,
            "height": null,
            "min_height": null,
            "padding": null,
            "grid_auto_rows": null,
            "grid_gap": null,
            "max_width": null,
            "order": null,
            "_view_module_version": "1.2.0",
            "grid_template_areas": null,
            "object_position": null,
            "object_fit": null,
            "grid_auto_columns": null,
            "margin": null,
            "display": null,
            "left": null
          }
        },
        "a9a6ebe31f4248b1be2a1bf859810303": {
          "model_module": "@jupyter-widgets/controls",
          "model_name": "DescriptionStyleModel",
          "state": {
            "_view_name": "StyleView",
            "_model_name": "DescriptionStyleModel",
            "description_width": "",
            "_view_module": "@jupyter-widgets/base",
            "_model_module_version": "1.5.0",
            "_view_count": null,
            "_view_module_version": "1.2.0",
            "_model_module": "@jupyter-widgets/controls"
          }
        },
        "1272c54d995d41f59384162ec6ae863a": {
          "model_module": "@jupyter-widgets/base",
          "model_name": "LayoutModel",
          "state": {
            "_view_name": "LayoutView",
            "grid_template_rows": null,
            "right": null,
            "justify_content": null,
            "_view_module": "@jupyter-widgets/base",
            "overflow": null,
            "_model_module_version": "1.2.0",
            "_view_count": null,
            "flex_flow": null,
            "width": null,
            "min_width": null,
            "border": null,
            "align_items": null,
            "bottom": null,
            "_model_module": "@jupyter-widgets/base",
            "top": null,
            "grid_column": null,
            "overflow_y": null,
            "overflow_x": null,
            "grid_auto_flow": null,
            "grid_area": null,
            "grid_template_columns": null,
            "flex": null,
            "_model_name": "LayoutModel",
            "justify_items": null,
            "grid_row": null,
            "max_height": null,
            "align_content": null,
            "visibility": null,
            "align_self": null,
            "height": null,
            "min_height": null,
            "padding": null,
            "grid_auto_rows": null,
            "grid_gap": null,
            "max_width": null,
            "order": null,
            "_view_module_version": "1.2.0",
            "grid_template_areas": null,
            "object_position": null,
            "object_fit": null,
            "grid_auto_columns": null,
            "margin": null,
            "display": null,
            "left": null
          }
        },
        "9180e653429d4715a5f2bcd41229dc53": {
          "model_module": "@jupyter-widgets/controls",
          "model_name": "HBoxModel",
          "state": {
            "_view_name": "HBoxView",
            "_dom_classes": [],
            "_model_name": "HBoxModel",
            "_view_module": "@jupyter-widgets/controls",
            "_model_module_version": "1.5.0",
            "_view_count": null,
            "_view_module_version": "1.5.0",
            "box_style": "",
            "layout": "IPY_MODEL_dd0e8bca7aeb408dbb737876ec25c472",
            "_model_module": "@jupyter-widgets/controls",
            "children": [
              "IPY_MODEL_92369682929f4d7e84dbd7b87b22fafd",
              "IPY_MODEL_6db97090470f436fa2590cef88ec5e17"
            ]
          }
        },
        "dd0e8bca7aeb408dbb737876ec25c472": {
          "model_module": "@jupyter-widgets/base",
          "model_name": "LayoutModel",
          "state": {
            "_view_name": "LayoutView",
            "grid_template_rows": null,
            "right": null,
            "justify_content": null,
            "_view_module": "@jupyter-widgets/base",
            "overflow": null,
            "_model_module_version": "1.2.0",
            "_view_count": null,
            "flex_flow": null,
            "width": null,
            "min_width": null,
            "border": null,
            "align_items": null,
            "bottom": null,
            "_model_module": "@jupyter-widgets/base",
            "top": null,
            "grid_column": null,
            "overflow_y": null,
            "overflow_x": null,
            "grid_auto_flow": null,
            "grid_area": null,
            "grid_template_columns": null,
            "flex": null,
            "_model_name": "LayoutModel",
            "justify_items": null,
            "grid_row": null,
            "max_height": null,
            "align_content": null,
            "visibility": null,
            "align_self": null,
            "height": null,
            "min_height": null,
            "padding": null,
            "grid_auto_rows": null,
            "grid_gap": null,
            "max_width": null,
            "order": null,
            "_view_module_version": "1.2.0",
            "grid_template_areas": null,
            "object_position": null,
            "object_fit": null,
            "grid_auto_columns": null,
            "margin": null,
            "display": null,
            "left": null
          }
        },
        "92369682929f4d7e84dbd7b87b22fafd": {
          "model_module": "@jupyter-widgets/controls",
          "model_name": "FloatProgressModel",
          "state": {
            "_view_name": "ProgressView",
            "style": "IPY_MODEL_fc066e1a3ee4439aa15702cd510f961c",
            "_dom_classes": [],
            "description": "Downloading: 100%",
            "_model_name": "FloatProgressModel",
            "bar_style": "success",
            "max": 438006864,
            "_view_module": "@jupyter-widgets/controls",
            "_model_module_version": "1.5.0",
            "value": 438006864,
            "_view_count": null,
            "_view_module_version": "1.5.0",
            "orientation": "horizontal",
            "min": 0,
            "description_tooltip": null,
            "_model_module": "@jupyter-widgets/controls",
            "layout": "IPY_MODEL_a60a6612ccf441e69cc8cf432ffeb0c2"
          }
        },
        "6db97090470f436fa2590cef88ec5e17": {
          "model_module": "@jupyter-widgets/controls",
          "model_name": "HTMLModel",
          "state": {
            "_view_name": "HTMLView",
            "style": "IPY_MODEL_cd911f44aaac440c924916dd51351981",
            "_dom_classes": [],
            "description": "",
            "_model_name": "HTMLModel",
            "placeholder": "​",
            "_view_module": "@jupyter-widgets/controls",
            "_model_module_version": "1.5.0",
            "value": " 438M/438M [00:15&lt;00:00, 29.2MB/s]",
            "_view_count": null,
            "_view_module_version": "1.5.0",
            "description_tooltip": null,
            "_model_module": "@jupyter-widgets/controls",
            "layout": "IPY_MODEL_1405284b1fa94d8da56828c297879093"
          }
        },
        "fc066e1a3ee4439aa15702cd510f961c": {
          "model_module": "@jupyter-widgets/controls",
          "model_name": "ProgressStyleModel",
          "state": {
            "_view_name": "StyleView",
            "_model_name": "ProgressStyleModel",
            "description_width": "initial",
            "_view_module": "@jupyter-widgets/base",
            "_model_module_version": "1.5.0",
            "_view_count": null,
            "_view_module_version": "1.2.0",
            "bar_color": null,
            "_model_module": "@jupyter-widgets/controls"
          }
        },
        "a60a6612ccf441e69cc8cf432ffeb0c2": {
          "model_module": "@jupyter-widgets/base",
          "model_name": "LayoutModel",
          "state": {
            "_view_name": "LayoutView",
            "grid_template_rows": null,
            "right": null,
            "justify_content": null,
            "_view_module": "@jupyter-widgets/base",
            "overflow": null,
            "_model_module_version": "1.2.0",
            "_view_count": null,
            "flex_flow": null,
            "width": null,
            "min_width": null,
            "border": null,
            "align_items": null,
            "bottom": null,
            "_model_module": "@jupyter-widgets/base",
            "top": null,
            "grid_column": null,
            "overflow_y": null,
            "overflow_x": null,
            "grid_auto_flow": null,
            "grid_area": null,
            "grid_template_columns": null,
            "flex": null,
            "_model_name": "LayoutModel",
            "justify_items": null,
            "grid_row": null,
            "max_height": null,
            "align_content": null,
            "visibility": null,
            "align_self": null,
            "height": null,
            "min_height": null,
            "padding": null,
            "grid_auto_rows": null,
            "grid_gap": null,
            "max_width": null,
            "order": null,
            "_view_module_version": "1.2.0",
            "grid_template_areas": null,
            "object_position": null,
            "object_fit": null,
            "grid_auto_columns": null,
            "margin": null,
            "display": null,
            "left": null
          }
        },
        "cd911f44aaac440c924916dd51351981": {
          "model_module": "@jupyter-widgets/controls",
          "model_name": "DescriptionStyleModel",
          "state": {
            "_view_name": "StyleView",
            "_model_name": "DescriptionStyleModel",
            "description_width": "",
            "_view_module": "@jupyter-widgets/base",
            "_model_module_version": "1.5.0",
            "_view_count": null,
            "_view_module_version": "1.2.0",
            "_model_module": "@jupyter-widgets/controls"
          }
        },
        "1405284b1fa94d8da56828c297879093": {
          "model_module": "@jupyter-widgets/base",
          "model_name": "LayoutModel",
          "state": {
            "_view_name": "LayoutView",
            "grid_template_rows": null,
            "right": null,
            "justify_content": null,
            "_view_module": "@jupyter-widgets/base",
            "overflow": null,
            "_model_module_version": "1.2.0",
            "_view_count": null,
            "flex_flow": null,
            "width": null,
            "min_width": null,
            "border": null,
            "align_items": null,
            "bottom": null,
            "_model_module": "@jupyter-widgets/base",
            "top": null,
            "grid_column": null,
            "overflow_y": null,
            "overflow_x": null,
            "grid_auto_flow": null,
            "grid_area": null,
            "grid_template_columns": null,
            "flex": null,
            "_model_name": "LayoutModel",
            "justify_items": null,
            "grid_row": null,
            "max_height": null,
            "align_content": null,
            "visibility": null,
            "align_self": null,
            "height": null,
            "min_height": null,
            "padding": null,
            "grid_auto_rows": null,
            "grid_gap": null,
            "max_width": null,
            "order": null,
            "_view_module_version": "1.2.0",
            "grid_template_areas": null,
            "object_position": null,
            "object_fit": null,
            "grid_auto_columns": null,
            "margin": null,
            "display": null,
            "left": null
          }
        }
      }
    }
  },
  "cells": [
    {
      "cell_type": "code",
      "metadata": {
        "id": "oH7woZwIESsD"
      },
      "source": [
        "#!pip install transformers\n",
        "#!python -m spacy download en_core_web_lg"
      ],
      "id": "oH7woZwIESsD",
      "execution_count": 3,
      "outputs": []
    },
    {
      "cell_type": "code",
      "metadata": {
        "id": "85661f5b"
      },
      "source": [
        "import os\n",
        "import math\n",
        "import gc\n",
        "\n",
        "import pandas as pd\n",
        "import numpy as np\n",
        "\n",
        "import matplotlib.pyplot as plt\n",
        "import seaborn as sns\n",
        "\n",
        "import spacy\n",
        "from nltk.stem.snowball import PorterStemmer\n",
        "\n",
        "# Arquivos Pythons com funções e constantes\n",
        "from qs_constants import AppConstants\n",
        "from qs_functions import load_qa_pairs, normalize_qa, remove_duplication, remove_bad_answer, get_context_files\n",
        "from qs_classes import TitleGroup, QuestionEmbedding\n",
        "\n",
        "import tensorflow as tf\n",
        "\n",
        "from transformers import AutoTokenizer, AutoModel\n",
        "\n",
        "import torch\n",
        "from torch.utils.data import DataLoader, TensorDataset\n",
        "from torch.nn import functional as t_funcional\n",
        "\n",
        "from tqdm import tqdm"
      ],
      "id": "85661f5b",
      "execution_count": 4,
      "outputs": []
    },
    {
      "cell_type": "code",
      "metadata": {
        "id": "e84d5bfa"
      },
      "source": [
        "nlp = spacy.load('en_core_web_lg')\n",
        "stemmer = PorterStemmer()"
      ],
      "id": "e84d5bfa",
      "execution_count": 5,
      "outputs": []
    },
    {
      "cell_type": "code",
      "metadata": {
        "id": "a6120ab9"
      },
      "source": [
        "def carrega_dataset():\n",
        "    df_all = load_qa_pairs()\n",
        "    df_preparado = df_all[(df_all.Question.notna()) &\n",
        "                          (df_all.Answer.notna())]\n",
        "    vet_QA = df_preparado[[\"Question\", \"Answer\", \"ArticleTitle\",\"ArticleFile\"]].to_numpy()\n",
        "    vet_QA = normalize_qa(vet_QA, lowercase=False)\n",
        "    vet_QA = remove_bad_answer(vet_QA)\n",
        "    vet_QA = remove_duplication(vet_QA)\n",
        "    return vet_QA\n"
      ],
      "id": "a6120ab9",
      "execution_count": 6,
      "outputs": []
    },
    {
      "cell_type": "code",
      "metadata": {
        "id": "146b8be2"
      },
      "source": [
        "def agrupa_perguntas_por_assunto(vet_QA):\n",
        "    qa_agrupada_assunto = {}\n",
        "    for qa in vet_QA:\n",
        "        assunto = qa[AppConstants.COL_TITULO]\n",
        "        assunto_preparado = assunto.lower().replace(\"_\", \" \")\n",
        "\n",
        "        if assunto_preparado not in qa_agrupada_assunto:\n",
        "            grupo = TitleGroup()\n",
        "            qa_agrupada_assunto[assunto_preparado] = grupo\n",
        "        else:\n",
        "            grupo = qa_agrupada_assunto[assunto_preparado]\n",
        "\n",
        "            \n",
        "        q_embedding = QuestionEmbedding()\n",
        "        q_embedding.question = qa[AppConstants.COL_PERGUNTA]\n",
        "        q_embedding.answer = qa[AppConstants.COL_RESPOSTA]\n",
        "        \n",
        "        grupo.question_list.append(q_embedding)\n",
        "\n",
        "        # existem arquivos com nan\n",
        "        file = qa[AppConstants.COL_CONTEXT_FILE]\n",
        "        if isinstance(file, str):\n",
        "            grupo.files.add(file)\n",
        "    return qa_agrupada_assunto\n",
        "    \n",
        "    "
      ],
      "id": "146b8be2",
      "execution_count": 7,
      "outputs": []
    },
    {
      "cell_type": "code",
      "metadata": {
        "id": "87db9528"
      },
      "source": [
        "def carrega_contexto_assunto(qa_agrupada_assunto):\n",
        "    with  tqdm(total=len(qa_agrupada_assunto), position=0, desc='Carregando Assuntos...') as progress:\n",
        "        for k_grupo in qa_agrupada_assunto:    \n",
        "            progress.set_description(f\"Carregando Assunto [{k_grupo:<30}]\")\n",
        "            grupo = qa_agrupada_assunto[k_grupo]\n",
        "            for ctx_file in grupo.files:\n",
        "                file_path = os.path.join(AppConstants.CONTEXT_TEXT_PATH, ctx_file + AppConstants.CONTEXT_FILE_EXTENSION)\n",
        "                with open(file_path, 'r', encoding='utf-8') as f_ctx:\n",
        "                    ctx_file_doc = f_ctx.read()\n",
        "                    ctx_nlp_doc = nlp(ctx_file_doc)\n",
        "                    if ctx_nlp_doc.ents:\n",
        "                        for ent in ctx_nlp_doc.ents:\n",
        "                            entidade = ent.text\n",
        "                            grupo.context_ner.add(entidade)\n",
        "            \n",
        "            progress.update(1)\n",
        "        progress.set_description(\"Assuntos carregados.\")"
      ],
      "id": "87db9528",
      "execution_count": 8,
      "outputs": []
    },
    {
      "cell_type": "code",
      "metadata": {
        "id": "252ea521"
      },
      "source": [
        "# retorna uma lista de asssuntos que tem potencial match com a pergunta\n",
        "def get_assunto_pergunta(qa_agrupada_assunto, pergunta):\n",
        "    doc_pergunta = nlp(pergunta)\n",
        "    lista_assunto_match = []\n",
        "    \n",
        "    for k_assunto in qa_agrupada_assunto:\n",
        "        grupo = qa_agrupada_assunto[k_assunto]\n",
        "        achou = False\n",
        "        como_achou = ''\n",
        "        \n",
        "        # NER pergunta\n",
        "        if doc_pergunta.ents:\n",
        "            for entidade in doc_pergunta.ents:\n",
        "                entidade_text = entidade.text.lower()\n",
        "                for entidade_token in entidade_text.split():\n",
        "                    if entidade_token in k_assunto:\n",
        "                        achou = True\n",
        "                        como_achou = AppConstants.METODO_BUSCA_ASSUNTO_NER_PERGUNTA\n",
        "                        \n",
        "        # Prcura por nomes\n",
        "        if not achou and doc_pergunta.noun_chunks:\n",
        "            for noun in doc_pergunta.noun_chunks:\n",
        "                for n_part in noun.text.split():\n",
        "                    if n_part in k_assunto:\n",
        "                        achou = True\n",
        "                        como_achou = AppConstants.METODO_BUSCA_ASSUNTO_NOUN_PERGUNTA    \n",
        "    \n",
        "         # Lemmanization\n",
        "        if not achou:\n",
        "            doc_assunto = nlp(k_assunto)\n",
        "            for token_assunto in doc_assunto:\n",
        "                if token_assunto.is_stop:\n",
        "                    continue\n",
        "                assunto_lemma = token_assunto.lemma_.lower()\n",
        "                for token_pergunta in doc_pergunta:\n",
        "                    if token_pergunta.is_stop:\n",
        "                        continue\n",
        "                    if assunto_lemma == token_pergunta.lemma_.lower():\n",
        "                        achou = True\n",
        "                        como_achou = AppConstants.METODO_BUSCA_ASSUNTO_LEMMANIZATION\n",
        "                if not achou:\n",
        "                    for token_pergunta in doc_pergunta:\n",
        "                        if token_pergunta.is_stop:\n",
        "                            continue\n",
        "                        if stemmer.stem(token_pergunta.text) == stemmer.stem(token_assunto.text):\n",
        "                            achou = True\n",
        "                            como_achou = AppConstants.METODO_BUSCA_ASSUNTO_STEMMER    \n",
        "                    \n",
        "        # NER context file            \n",
        "        if not achou:\n",
        "            if doc_pergunta.ents:\n",
        "                for entidade in doc_pergunta.ents:\n",
        "                    entidade_text = entidade.text\n",
        "                    if entidade_text in grupo.context_ner:\n",
        "                            achou = True\n",
        "                            como_achou = AppConstants.METODO_BUSCA_ASSUNTO_NER_CONTEXTO\n",
        "                            \n",
        "        \n",
        "        if achou:\n",
        "            lista_assunto_match.append((k_assunto, como_achou))\n",
        "            \n",
        "    return lista_assunto_match"
      ],
      "id": "252ea521",
      "execution_count": 9,
      "outputs": []
    },
    {
      "cell_type": "code",
      "metadata": {
        "id": "7304cf05"
      },
      "source": [
        "# dada uma lista de matchs para assunto retonra aquele que teoricamente seria o de maior peso, seguindo a ordem de prioridade por busca\n",
        "def get_assunto_match_principal(lista_assunto_match):\n",
        "    \n",
        "    def encontra_metodo_busca(lista_assunto, metodo_busca_pesquisa):\n",
        "        for (assunto, metodo_busca) in lista_assunto_match:\n",
        "            if metodo_busca == metodo_busca_pesquisa:\n",
        "                return assunto\n",
        "        return None\n",
        "    \n",
        "    assunto_encontrado = encontra_metodo_busca(lista_assunto_match, AppConstants.METODO_BUSCA_ASSUNTO_NER_PERGUNTA)\n",
        "    if assunto_encontrado:\n",
        "        return assunto_encontrado, AppConstants.METODO_BUSCA_ASSUNTO_NER_PERGUNTA\n",
        "        \n",
        "    assunto_encontrado = encontra_metodo_busca(lista_assunto_match, AppConstants.METODO_BUSCA_ASSUNTO_NOUN_PERGUNTA)\n",
        "    if assunto_encontrado:\n",
        "        return assunto_encontrado, AppConstants.METODO_BUSCA_ASSUNTO_NOUN_PERGUNTA\n",
        "    \n",
        "    assunto_encontrado = encontra_metodo_busca(lista_assunto_match, AppConstants.METODO_BUSCA_ASSUNTO_LEMMANIZATION)\n",
        "    if assunto_encontrado:\n",
        "        return assunto_encontrado, AppConstants.METODO_BUSCA_ASSUNTO_LEMMANIZATION\n",
        "    \n",
        "    assunto_encontrado = encontra_metodo_busca(lista_assunto_match, AppConstants.METODO_BUSCA_ASSUNTO_STEMMER)\n",
        "    if assunto_encontrado:\n",
        "        return assunto_encontrado, AppConstants.METODO_BUSCA_ASSUNTO_STEMMER\n",
        "    \n",
        "    assunto_encontrado = encontra_metodo_busca(lista_assunto_match, AppConstants.METODO_BUSCA_ASSUNTO_NER_CONTEXTO)\n",
        "    if assunto_encontrado:\n",
        "        return assunto_encontrado, AppConstants.METODO_BUSCA_ASSUNTO_NER_CONTEXTO\n",
        "    \n",
        "    "
      ],
      "id": "7304cf05",
      "execution_count": 10,
      "outputs": []
    },
    {
      "cell_type": "code",
      "metadata": {
        "id": "68bf40cc"
      },
      "source": [
        "# imprime as perguntas cuja a entidade não conseguiu ser encontrada\n",
        "def teste_busca_contexto():\n",
        "    vet_QA = carrega_dataset()\n",
        "    qa_agrupada_assunto = agrupa_perguntas_por_assunto(vet_QA)\n",
        "    carrega_contexto_assunto(qa_agrupada_assunto)\n",
        "\n",
        "    total = 0\n",
        "    qtd_achou_lista = 0\n",
        "    qtd_achou_lista_errada = 0\n",
        "    qtd_achou_unico = 0\n",
        "    qtd_achou_unico_lista = 0\n",
        "    qtd_nao_achou = 0\n",
        "    qtd_achou_unico_incorreto = 0\n",
        "\n",
        "\n",
        "    estatistica_busca = {AppConstants.METODO_BUSCA_ASSUNTO_NER_PERGUNTA: 0, \n",
        "                         AppConstants.METODO_BUSCA_ASSUNTO_NOUN_PERGUNTA : 0,\n",
        "                         AppConstants.METODO_BUSCA_ASSUNTO_LEMMANIZATION : 0,\n",
        "                         AppConstants.METODO_BUSCA_ASSUNTO_STEMMER : 0,\n",
        "                         AppConstants.METODO_BUSCA_ASSUNTO_NER_CONTEXTO : 0,\n",
        "                         'PERGUNTA_SEM_CONTEXTO' : 0\n",
        "                        }\n",
        "\n",
        "    for k_assunto in qa_agrupada_assunto:\n",
        "        grupo = qa_agrupada_assunto[k_assunto]\n",
        "        for qa in grupo.question_list:\n",
        "            total += 1\n",
        "            achou = False\n",
        "            como_achou = \"\"\n",
        "\n",
        "            pergunta = qa.question\n",
        "\n",
        "            lista_assunto_match = get_assunto_pergunta(qa_agrupada_assunto, pergunta)\n",
        "\n",
        "            if len(lista_assunto_match) == 1:\n",
        "                (assunto_encontrado, metodo_busca) = lista_assunto_match[0]\n",
        "                if assunto_encontrado != k_assunto:\n",
        "                    qtd_achou_unico_incorreto += 1\n",
        "                else:\n",
        "                    qtd_achou_unico += 1\n",
        "                    estatistica_busca[metodo_busca] += 1\n",
        "\n",
        "            elif len(lista_assunto_match) > 0:\n",
        "                assunto_encontrado, metodo_busca = get_assunto_match_principal(lista_assunto_match)\n",
        "                if assunto_encontrado == k_assunto:\n",
        "                    qtd_achou_unico_lista += 1\n",
        "                    estatistica_busca[metodo_busca] += 1\n",
        "                else:\n",
        "                    achou_lista = False\n",
        "                    for (assunto_encontrado, metodo_busca) in lista_assunto_match:\n",
        "                        if assunto_encontrado != k_assunto:\n",
        "                            continue\n",
        "                        achou_lista = True\n",
        "                    if achou_lista:\n",
        "                        qtd_achou_lista += 1\n",
        "                    else:\n",
        "                        qtd_achou_lista_errada += 1\n",
        "            else:\n",
        "                print(\"Não achou \", k_assunto,\" - \", pergunta)\n",
        "                qtd_nao_achou +=1\n",
        "                for token_sem_ctx in AppConstants.TOKENS_COM_FALTA_CONTEXTO:\n",
        "                    if token_sem_ctx in pergunta:\n",
        "                        estatistica_busca['PERGUNTA_SEM_CONTEXTO'] += 1\n",
        "\n",
        "\n",
        "    print ('Total:', total)\n",
        "    print('Achou Unico', qtd_achou_unico)\n",
        "    print('Achou Unico Pela Lista através de prioridade entre métodos ', qtd_achou_unico_lista)\n",
        "    print('Achou Unico Incorreto', qtd_achou_unico_incorreto)\n",
        "    print('Achou Lista ', qtd_achou_lista)\n",
        "    print('Achou Lista Errada ', qtd_achou_lista_errada)\n",
        "    print('Não Achou', qtd_nao_achou)\n",
        "    print(estatistica_busca)"
      ],
      "id": "68bf40cc",
      "execution_count": 11,
      "outputs": []
    },
    {
      "cell_type": "code",
      "metadata": {
        "id": "04614fa5",
        "colab": {
          "base_uri": "https://localhost:8080/"
        },
        "outputId": "a15c33df-efb8-4abe-ca35-e9389af4fe64"
      },
      "source": [
        "teste_busca_contexto()"
      ],
      "id": "04614fa5",
      "execution_count": null,
      "outputs": [
        {
          "output_type": "stream",
          "text": [
            "Assuntos carregados.: 100%|██████████| 105/105 [01:58<00:00,  1.13s/it]\n"
          ],
          "name": "stderr"
        },
        {
          "output_type": "stream",
          "text": [
            "Não achou  abraham lincoln  -  Did his mother die of pneumonia?\n"
          ],
          "name": "stdout"
        }
      ]
    },
    {
      "cell_type": "markdown",
      "metadata": {
        "id": "24c63b63"
      },
      "source": [
        "### Processando as Sentenças para geração de Embedding"
      ],
      "id": "24c63b63"
    },
    {
      "cell_type": "code",
      "metadata": {
        "id": "7fabe413"
      },
      "source": [
        "# criação modelo, caminho Hugginface recebido por parametro\n",
        "def create_model(model_path):\n",
        "    tokenizer = AutoTokenizer.from_pretrained(model_path)\n",
        "    model = AutoModel.from_pretrained(model_path)\n",
        "    model.to('cuda')\n",
        "    return model, tokenizer"
      ],
      "id": "7fabe413",
      "execution_count": 13,
      "outputs": []
    },
    {
      "cell_type": "code",
      "metadata": {
        "id": "9b59de03"
      },
      "source": [
        "# liberar espaço ocupado pelo modelo na GPU\n",
        "def destroy_model(model):\n",
        "    del model\n",
        "    gc.collect()\n",
        "    torch.cuda.empty_cache()"
      ],
      "id": "9b59de03",
      "execution_count": 14,
      "outputs": []
    },
    {
      "cell_type": "markdown",
      "metadata": {
        "id": "596be053"
      },
      "source": [
        "##### Prepara o dataset para entrar no modelo bert. Gera input_id, attention_mask e monta o data loaader para processamento em mini-batchs\n",
        "- *Vetor de perguntas - Numpy*\n"
      ],
      "id": "596be053"
    },
    {
      "cell_type": "code",
      "metadata": {
        "id": "6450280f"
      },
      "source": [
        "def prepare_to_bert(np_sentences, tokenizer, sentence_max_length=450, batch_size=5):\n",
        "    inputs = tokenizer.batch_encode_plus(np_sentences, \n",
        "                                         return_tensors='pt',\n",
        "                                         padding='max_length',\n",
        "                                         max_length=sentence_max_length)\n",
        "    \n",
        "    input_ids = inputs['input_ids']\n",
        "    input_ids = input_ids.to('cuda')\n",
        "    attention_mask = inputs['attention_mask']\n",
        "    attention_mask = attention_mask.to('cuda')\n",
        "    \n",
        "    dataset = TensorDataset(input_ids, attention_mask)\n",
        "    loader = DataLoader(dataset, batch_size=batch_size, shuffle=False)\n",
        "    \n",
        "    return loader   \n",
        "    "
      ],
      "id": "6450280f",
      "execution_count": 15,
      "outputs": []
    },
    {
      "cell_type": "markdown",
      "metadata": {
        "id": "4c6d1937"
      },
      "source": [
        "##### Realiza o encode da sentença, retornando mean e mean polling*"
      ],
      "id": "4c6d1937"
    },
    {
      "cell_type": "code",
      "metadata": {
        "id": "3726605a"
      },
      "source": [
        "def encode_sentence(sentences, bert_model, bert_tokenizer):\n",
        "    sentence_loader = prepare_to_bert(sentences, bert_tokenizer, sentence_max_length=450, batch_size=5)\n",
        "\n",
        "    mean_pooled_vet = []\n",
        "    mean_vet = []\n",
        "    \n",
        "    for batch_id, (input_ids, attention_masks) in enumerate(sentence_loader):\n",
        "        output = bert_model(input_ids, attention_mask=attention_masks)\n",
        "\n",
        "        embeddings = output.last_hidden_state\n",
        "        embeddings.detach()\n",
        "\n",
        "        # calculo mean_pooling\n",
        "        mask = attention_masks.unsqueeze(-1).expand(embeddings.size()).float()\n",
        "        masked_embeddings = embeddings * mask\n",
        "        summed = torch.sum(masked_embeddings, 1)\n",
        "        summed_mask = torch.clamp(mask.sum(1), min=1e-9)\n",
        "        mean_pooled = summed / summed_mask\n",
        "        # convert from PyTorch tensor to numpy array\n",
        "        mean_pooled = mean_pooled.cpu().data.numpy()\n",
        "        mean_pooled_vet.append(mean_pooled)\n",
        "\n",
        "        #calculo mean\n",
        "        mean = embeddings.mean(dim=1)\n",
        "        mean = mean.cpu().data.numpy()\n",
        "        mean_vet.append(mean)\n",
        "\n",
        "        #--- libera recursos da gpu\n",
        "        del output\n",
        "        gc.collect()\n",
        "        torch.cuda.empty_cache()\n",
        "\n",
        "    mean_pooled_vet = np.concatenate(mean_pooled_vet)\n",
        "    mean_vet = np.concatenate(mean_vet)\n",
        "    \n",
        "    return mean_pooled_vet, mean_vet"
      ],
      "id": "3726605a",
      "execution_count": 16,
      "outputs": []
    },
    {
      "cell_type": "code",
      "metadata": {
        "id": "942e7eee"
      },
      "source": [
        "# dada a base agrupada gera os embeddings por pergunta do assunto\n",
        "def gera_embedding_pergunta_por_assunto(qa_agrupada_assunto):\n",
        "    model, tokenizer = create_model(AppConstants.MODEL_BASE_NLI_MEAN)\n",
        "    try:\n",
        "        with  tqdm(total=len(qa_agrupada_assunto), position=0, desc='Encoding de Sentenças') as progress:\n",
        "            for k_grupo in qa_agrupada_assunto:\n",
        "                progress.set_description(f\"Gerando Embedding Sentenças [{k_grupo:<30}]\")\n",
        "                grupo = qa_agrupada_assunto[k_grupo]\n",
        "                vet_pergunta = []\n",
        "                for q_embedding in grupo.question_list:\n",
        "                    vet_pergunta.append(q_embedding.question)\n",
        "                sentence_embeddings_mean_pooled, _ = encode_sentence(vet_pergunta, bert_model=model, bert_tokenizer=tokenizer)    \n",
        "                for index, q_embedding in enumerate(grupo.question_list):\n",
        "                    q_embedding.embedding = sentence_embeddings_mean_pooled[index]\n",
        "                progress.update(1)\n",
        "            progress.set_description(\"Geração Embedding Finalizada\")\n",
        "    finally:\n",
        "        destroy_model(model)     \n",
        "    "
      ],
      "id": "942e7eee",
      "execution_count": 17,
      "outputs": []
    },
    {
      "cell_type": "code",
      "metadata": {
        "id": "9BRi79lqQLkr"
      },
      "source": [
        "# dada uma lista de perguntas retorna os respectivos embeddings de sentença\n",
        "# lista_pergunta - lista de perguntas que serão processadas\n",
        "def gera_embedding_perguntas(lista_pergunta):\n",
        "    model, tokenizer = create_model(AppConstants.MODEL_BASE_NLI_MEAN)\n",
        "    try:\n",
        "        sentence_embeddings_mean_pooled, _ = encode_sentence(lista_pergunta, bert_model=model, bert_tokenizer=tokenizer)                                    \n",
        "    finally:\n",
        "        destroy_model(model)    \n",
        "    return sentence_embeddings_mean_pooled"
      ],
      "id": "9BRi79lqQLkr",
      "execution_count": 35,
      "outputs": []
    },
    {
      "cell_type": "code",
      "metadata": {
        "id": "NlWrDXdlTjTr"
      },
      "source": [
        "# retorna as perguntas com maior similaridade \n",
        "# embedding_base_qa - lista de embeddings da base de perguntas e respostas\n",
        "# embedding pergunta - embedding de uma pergunta\n",
        "# return - lista de tuplas com (indice e similaridade)\n",
        "def get_most_similarity_questions(embedding_base_qa, embedding_pergunta, threshold=0.7, max_question_return=3):\n",
        "    similarities = t_funcional.cosine_similarity(torch.tensor([embedding_pergunta]), torch.tensor(embedding_base_qa))\n",
        "    closest = similarities.argsort(descending=True)\n",
        "\n",
        "    similarity_return = []\n",
        "    qtd = 0\n",
        "    for ind in closest:\n",
        "        if similarities[ind] > threshold:\n",
        "            similarity_return.append((ind, similarities[ind]))\n",
        "        qtd += 1\n",
        "        if qtd >= max_question_return:\n",
        "            break\n",
        "\n",
        "    return similarity_return\n",
        "    "
      ],
      "id": "NlWrDXdlTjTr",
      "execution_count": 38,
      "outputs": []
    },
    {
      "cell_type": "code",
      "metadata": {
        "id": "_meg6CHaWrBb"
      },
      "source": [
        "# Retorna um array de embeddings dada uma lista de perguntas\n",
        "def question_to_embedding_array(question_list):\n",
        "    resp = []\n",
        "    for question in question_list:\n",
        "        resp.append(question.embedding)\n",
        "    return resp"
      ],
      "id": "_meg6CHaWrBb",
      "execution_count": 22,
      "outputs": []
    },
    {
      "cell_type": "markdown",
      "metadata": {
        "id": "0869282f"
      },
      "source": [
        "## Execução"
      ],
      "id": "0869282f"
    },
    {
      "cell_type": "code",
      "metadata": {
        "colab": {
          "base_uri": "https://localhost:8080/",
          "height": 371,
          "referenced_widgets": [
            "738fa32458ad41e0b94bd1973b710398",
            "38ad1403dd154789a403a712f223ed2d",
            "264eaff4182f46ecaf5288c68e983245",
            "8dac1e0e185548f4837d9d170f8e6eae",
            "b3740a2e76344055b075d18602ec5071",
            "713d7765bf834cd384d63ad4d053827d",
            "c254c97ae65e4a1a8dfe36ae4c11f06e",
            "475d0435039f468e861ced2990082d88",
            "1abfc51b81724a1ba3d882fe7beb79c1",
            "8b3733756f9d4ea294821e0feb806d52",
            "19196fe5c90f4664945bcd08a4ef505a",
            "33c3aa0e982040eb89dc43e027ec8f74",
            "51d001337bf9409e83532cb038c2e5f9",
            "270f64bdff2847a5b2363516f5131918",
            "f152c69d21cd4479b1cefeefa0a03349",
            "302e43a8fe8440d39bd8cde1122d51eb",
            "275427853ff7453dba0c17c21f72cc6d",
            "c6dcc78aefb24c26a69ef0031e92d2ad",
            "2c85830cf5e44c67a3a8f7d357e4c91e",
            "b3b469456aaa47b89615b73a54696428",
            "c2fc5913b56e48f28e6246245a6422ac",
            "0c0bdf3733d741269097b45c67630d88",
            "ca90d02fcc2442239cd0e6a13165f354",
            "06f03662b3394ae9b1bd672e61931584",
            "aebe9e186494427a81229515b5ca2c54",
            "660ea26b3aaf4d0d9ba3555c94ab8665",
            "c6623837724d471b99dcc77e0dbc2e70",
            "58f824a9db7d46e28847f5d64a118cbf",
            "fe8b0805ba6e43cbbb564649f5e6af6d",
            "533df9d2fd27416f8b2b44e900cff1cc",
            "a9a6ebe31f4248b1be2a1bf859810303",
            "1272c54d995d41f59384162ec6ae863a",
            "9180e653429d4715a5f2bcd41229dc53",
            "dd0e8bca7aeb408dbb737876ec25c472",
            "92369682929f4d7e84dbd7b87b22fafd",
            "6db97090470f436fa2590cef88ec5e17",
            "fc066e1a3ee4439aa15702cd510f961c",
            "a60a6612ccf441e69cc8cf432ffeb0c2",
            "cd911f44aaac440c924916dd51351981",
            "1405284b1fa94d8da56828c297879093"
          ]
        },
        "id": "0fde9c64",
        "outputId": "f4ff4445-503f-469b-83bb-a7077e2cd0d4"
      },
      "source": [
        "vet_QA = carrega_dataset()\n",
        "qa_agrupada_assunto = agrupa_perguntas_por_assunto(vet_QA)\n",
        "carrega_contexto_assunto(qa_agrupada_assunto)\n",
        "gera_embedding_pergunta_por_assunto(qa_agrupada_assunto)\n",
        "    \n"
      ],
      "id": "0fde9c64",
      "execution_count": 23,
      "outputs": [
        {
          "output_type": "stream",
          "text": [
            "Assuntos carregados.: 100%|██████████| 105/105 [01:49<00:00,  1.04s/it]\n"
          ],
          "name": "stderr"
        },
        {
          "output_type": "display_data",
          "data": {
            "application/vnd.jupyter.widget-view+json": {
              "model_id": "738fa32458ad41e0b94bd1973b710398",
              "version_minor": 0,
              "version_major": 2
            },
            "text/plain": [
              "HBox(children=(FloatProgress(value=0.0, description='Downloading', max=461.0, style=ProgressStyle(description_…"
            ]
          },
          "metadata": {
            "tags": []
          }
        },
        {
          "output_type": "stream",
          "text": [
            "\n"
          ],
          "name": "stdout"
        },
        {
          "output_type": "display_data",
          "data": {
            "application/vnd.jupyter.widget-view+json": {
              "model_id": "1abfc51b81724a1ba3d882fe7beb79c1",
              "version_minor": 0,
              "version_major": 2
            },
            "text/plain": [
              "HBox(children=(FloatProgress(value=0.0, description='Downloading', max=231508.0, style=ProgressStyle(descripti…"
            ]
          },
          "metadata": {
            "tags": []
          }
        },
        {
          "output_type": "stream",
          "text": [
            "\n"
          ],
          "name": "stdout"
        },
        {
          "output_type": "display_data",
          "data": {
            "application/vnd.jupyter.widget-view+json": {
              "model_id": "275427853ff7453dba0c17c21f72cc6d",
              "version_minor": 0,
              "version_major": 2
            },
            "text/plain": [
              "HBox(children=(FloatProgress(value=0.0, description='Downloading', max=2.0, style=ProgressStyle(description_wi…"
            ]
          },
          "metadata": {
            "tags": []
          }
        },
        {
          "output_type": "stream",
          "text": [
            "\n"
          ],
          "name": "stdout"
        },
        {
          "output_type": "display_data",
          "data": {
            "application/vnd.jupyter.widget-view+json": {
              "model_id": "aebe9e186494427a81229515b5ca2c54",
              "version_minor": 0,
              "version_major": 2
            },
            "text/plain": [
              "HBox(children=(FloatProgress(value=0.0, description='Downloading', max=112.0, style=ProgressStyle(description_…"
            ]
          },
          "metadata": {
            "tags": []
          }
        },
        {
          "output_type": "stream",
          "text": [
            "\n"
          ],
          "name": "stdout"
        },
        {
          "output_type": "display_data",
          "data": {
            "application/vnd.jupyter.widget-view+json": {
              "model_id": "9180e653429d4715a5f2bcd41229dc53",
              "version_minor": 0,
              "version_major": 2
            },
            "text/plain": [
              "HBox(children=(FloatProgress(value=0.0, description='Downloading', max=438006864.0, style=ProgressStyle(descri…"
            ]
          },
          "metadata": {
            "tags": []
          }
        },
        {
          "output_type": "stream",
          "text": [
            "\n"
          ],
          "name": "stdout"
        },
        {
          "output_type": "stream",
          "text": [
            "Some weights of the model checkpoint at sentence-transformers/bert-base-nli-mean-tokens were not used when initializing BertModel: ['classifier.bias', 'classifier.weight']\n",
            "- This IS expected if you are initializing BertModel from the checkpoint of a model trained on another task or with another architecture (e.g. initializing a BertForSequenceClassification model from a BertForPreTraining model).\n",
            "- This IS NOT expected if you are initializing BertModel from the checkpoint of a model that you expect to be exactly identical (initializing a BertForSequenceClassification model from a BertForSequenceClassification model).\n",
            "Geração Embedding Finalizada: 100%|██████████| 105/105 [02:37<00:00,  1.50s/it]\n"
          ],
          "name": "stderr"
        }
      ]
    },
    {
      "cell_type": "code",
      "metadata": {
        "id": "a3932eb4"
      },
      "source": [
        "print(qa_agrupada_assunto['abraham lincoln'].question_list[0].question)\n",
        "print(qa_agrupada_assunto['abraham lincoln'].question_list[0].embedding)"
      ],
      "id": "a3932eb4",
      "execution_count": null,
      "outputs": []
    },
    {
      "cell_type": "code",
      "metadata": {
        "id": "tG7JjL1xN1T-",
        "colab": {
          "base_uri": "https://localhost:8080/"
        },
        "outputId": "4749297c-ecd7-4f5a-a219-ba4977c19f14"
      },
      "source": [
        "MIN_SIMILARIY = 0.7\n",
        "question_list = [\"Was Abraham Lincoln the president of the United States?\",\n",
        "                 \"Why ducks don't fly?\",\n",
        "                 \"Can use ducks for economics use?\",\n",
        "                 \"Is ducks confused with other animals?\",\n",
        "                 \"How many years elephants live?\",\n",
        "                 \"How long for elephant's get a baby?\",\n",
        "                 \"Did Finland have an international crisis with another country?\",\n",
        "                 \"Can I use ants for cooking?\",\n",
        "                 \"Does ants fly?\",\n",
        "                 \"Can i hear the butterflies?\",\n",
        "                 \"Was Anders Celsius born in Sweden?\",\n",
        "                 \"What you can tell me about cello?\"]\n",
        "\n",
        "embedding_perguntas =  gera_embedding_perguntas(question_list)\n",
        "\n",
        "for ind_pergunta, pergunta in enumerate(question_list):\n",
        "    print('-----------------------------------------------------------------------------------------------')\n",
        "    print('Pergunta:', pergunta)\n",
        "    lista_assuntos = get_assunto_pergunta(qa_agrupada_assunto, pergunta)\n",
        "    lista_questions_to_compare = []\n",
        "    if (len(lista_assuntos) > 0):\n",
        "        for k_assunto, _ in lista_assuntos:\n",
        "            grupo = qa_agrupada_assunto[k_assunto]\n",
        "            for question in grupo.question_list:\n",
        "                lista_questions_to_compare.append(question)\n",
        "        embedding_base_question_array = question_to_embedding_array(lista_questions_to_compare)\n",
        "        questions_similarities = get_most_similarity_questions(embedding_base_question_array, \n",
        "                                                               embedding_perguntas[ind_pergunta], \n",
        "                                                               threshold=MIN_SIMILARIY)        \n",
        "        if (len(questions_similarities) == 0):\n",
        "            print(\"Nenhuma pergunta encontrada com a similaridade maior que o mínimo estipulado [\", MIN_SIMILARIY , \"]\")\n",
        "            continue\n",
        "\n",
        "        print(len(questions_similarities), ' respostas encontradas com similaridade maior que ' , MIN_SIMILARIY) \n",
        "        for ind_sim, cos_sim in questions_similarities:\n",
        "            print(lista_questions_to_compare[ind_sim].question, ' - ', cos_sim )\n",
        "\n",
        "    else:\n",
        "        print(\"Nenhum assunto encontrado\")\n",
        "    print('-----------------------------------------------------------------------------------------------')"
      ],
      "id": "tG7JjL1xN1T-",
      "execution_count": 44,
      "outputs": [
        {
          "output_type": "stream",
          "text": [
            "Some weights of the model checkpoint at sentence-transformers/bert-base-nli-mean-tokens were not used when initializing BertModel: ['classifier.bias', 'classifier.weight']\n",
            "- This IS expected if you are initializing BertModel from the checkpoint of a model trained on another task or with another architecture (e.g. initializing a BertForSequenceClassification model from a BertForPreTraining model).\n",
            "- This IS NOT expected if you are initializing BertModel from the checkpoint of a model that you expect to be exactly identical (initializing a BertForSequenceClassification model from a BertForSequenceClassification model).\n"
          ],
          "name": "stderr"
        },
        {
          "output_type": "stream",
          "text": [
            "-----------------------------------------------------------------------------------------------\n",
            "Pergunta: Was Abraham Lincoln the president of the United States?\n",
            "3  respostas encontradas com similaridade maior que  0.7\n",
            "Was Abraham Lincoln the first President of the United States?  -  tensor(0.9469)\n",
            "When did Lincoln first serve as President?  -  tensor(0.8925)\n",
            "Was James Monroe President of the United States?  -  tensor(0.8230)\n",
            "-----------------------------------------------------------------------------------------------\n",
            "-----------------------------------------------------------------------------------------------\n",
            "Pergunta: Why ducks don't fly?\n",
            "3  respostas encontradas com similaridade maior que  0.7\n",
            "What unrelated water birds are ducks sometimes confused with?  -  tensor(0.7844)\n",
            "What makes it more difficult for a diving duck to fly?  -  tensor(0.7573)\n",
            "What types of unrelated water birds with similar forms are ducks sometimes confused with?  -  tensor(0.7022)\n",
            "-----------------------------------------------------------------------------------------------\n",
            "-----------------------------------------------------------------------------------------------\n",
            "Pergunta: Can use ducks for economics use?\n",
            "3  respostas encontradas com similaridade maior que  0.7\n",
            "What economic uses to ducks have?  -  tensor(0.9044)\n",
            "What is an economic use of a duck?  -  tensor(0.8524)\n",
            "What are some economic uses for duck?  -  tensor(0.8505)\n",
            "-----------------------------------------------------------------------------------------------\n",
            "-----------------------------------------------------------------------------------------------\n",
            "Pergunta: Is ducks confused with other animals?\n",
            "3  respostas encontradas com similaridade maior que  0.7\n",
            "What unrelated water birds are ducks sometimes confused with?  -  tensor(0.8770)\n",
            "What types of unrelated water birds with similar forms are ducks sometimes confused with?  -  tensor(0.8718)\n",
            "Are ducks an accepted presence in some populated areas?  -  tensor(0.7921)\n",
            "-----------------------------------------------------------------------------------------------\n",
            "-----------------------------------------------------------------------------------------------\n",
            "Pergunta: How many years elephants live?\n",
            "3  respostas encontradas com similaridade maior que  0.7\n",
            "How long may elephants live?  -  tensor(0.8987)\n",
            "How long is the elephant's gestation period?  -  tensor(0.8276)\n",
            "How much do elephants weight at birth?  -  tensor(0.8011)\n",
            "-----------------------------------------------------------------------------------------------\n",
            "-----------------------------------------------------------------------------------------------\n",
            "Pergunta: How long for elephant's get a baby?\n",
            "3  respostas encontradas com similaridade maior que  0.7\n",
            "How long is the elephant's gestation period?  -  tensor(0.8803)\n",
            "How long may elephants live?  -  tensor(0.8076)\n",
            "How much do elephants weight at birth?  -  tensor(0.7604)\n",
            "-----------------------------------------------------------------------------------------------\n",
            "-----------------------------------------------------------------------------------------------\n",
            "Pergunta: Did Finland have an international crisis with another country?\n",
            "3  respostas encontradas com similaridade maior que  0.7\n",
            "What is a country with which Finland is involved in an international conflict?  -  tensor(0.9306)\n",
            "For how long has the classification of dialects spoken outside of Finland been a controversial issue?  -  tensor(0.7782)\n",
            "Where is Finland located?  -  tensor(0.7253)\n",
            "-----------------------------------------------------------------------------------------------\n",
            "-----------------------------------------------------------------------------------------------\n",
            "Pergunta: Can I use ants for cooking?\n",
            "3  respostas encontradas com similaridade maior que  0.7\n",
            "Are ants used in cuisine?  -  tensor(0.8906)\n",
            "Do the ants eat plants, meats, or both?  -  tensor(0.7894)\n",
            "Are ants found in Antartica?  -  tensor(0.7665)\n",
            "-----------------------------------------------------------------------------------------------\n",
            "-----------------------------------------------------------------------------------------------\n",
            "Pergunta: Does ants fly?\n",
            "3  respostas encontradas com similaridade maior que  0.7\n",
            "Do worker ants have wings?  -  tensor(0.9120)\n",
            "Are ants found in Antartica?  -  tensor(0.8151)\n",
            "Do male ants take flight before females?  -  tensor(0.7904)\n",
            "-----------------------------------------------------------------------------------------------\n",
            "-----------------------------------------------------------------------------------------------\n",
            "Pergunta: Can i hear the butterflies?\n",
            "3  respostas encontradas com similaridade maior que  0.7\n",
            "Do butterflies make sounds?  -  tensor(0.9017)\n",
            "Do butterflies have two eyes?  -  tensor(0.7895)\n",
            "What butterfly is migratory?  -  tensor(0.7298)\n",
            "-----------------------------------------------------------------------------------------------\n",
            "-----------------------------------------------------------------------------------------------\n",
            "Pergunta: Was Anders Celsius born in Sweden?\n",
            "3  respostas encontradas com similaridade maior que  0.7\n",
            "Was celsius born in Uppsala  in Sweden?  -  tensor(0.9430)\n",
            "Was Celsius born in Uppsala in Sweden ?  -  tensor(0.9430)\n",
            "Was Celsius born in Uppsala in Sweden?  -  tensor(0.9430)\n",
            "-----------------------------------------------------------------------------------------------\n",
            "-----------------------------------------------------------------------------------------------\n",
            "Pergunta: What you can tell me about cello?\n",
            "3  respostas encontradas com similaridade maior que  0.7\n",
            "What is cello an abbreviation of?  -  tensor(0.8422)\n",
            "What is a person who plays the cello called?  -  tensor(0.8355)\n",
            "What position is used to play the cello?  -  tensor(0.8307)\n",
            "-----------------------------------------------------------------------------------------------\n"
          ],
          "name": "stdout"
        }
      ]
    },
    {
      "cell_type": "code",
      "metadata": {
        "id": "DsuHh1tLLCxB"
      },
      "source": [
        ""
      ],
      "id": "DsuHh1tLLCxB",
      "execution_count": null,
      "outputs": []
    }
  ]
}